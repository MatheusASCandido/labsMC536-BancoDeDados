{
 "cells": [
  {
   "cell_type": "markdown",
   "metadata": {},
   "source": [
    "# Lab 1 - API de Acesso a Dados"
   ]
  },
  {
   "cell_type": "markdown",
   "metadata": {},
   "source": [
    "# Tarefa 1\n",
    "\n",
    "Das fontes de dados disponíveis, tente encontrar fontes com formatos diferentes e importá-las via Python. Busque pelo menos dois formatos."
   ]
  },
  {
   "cell_type": "code",
   "execution_count": 1,
   "metadata": {},
   "outputs": [
    {
     "name": "stdout",
     "output_type": "stream",
     "text": [
      "                          Município  \\\n",
      "FLORÍNEA             1          136   \n",
      "SANTO ANDRÉ          2          114   \n",
      "CAIUÁ                3           99   \n",
      "NOVA INDEPENDÊNCIA   4           98   \n",
      "PRESIDENTE BERNARDES 5           96   \n",
      "...                             ...   \n",
      "GASTÃO VIDIGAL       641         55   \n",
      "NOVAIS               642         54   \n",
      "QUELUZ               643         54   \n",
      "PALMARES PAULISTA    644         52   \n",
      "RIO GRANDE DA SERRA  645         46   \n",
      "\n",
      "                          Classificação de % em relação a população geral  \\\n",
      "FLORÍNEA             1                                          524689031   \n",
      "SANTO ANDRÉ          2                                          236145767   \n",
      "CAIUÁ                3                                          512277161   \n",
      "NOVA INDEPENDÊNCIA   4                                          494942018   \n",
      "PRESIDENTE BERNARDES 5                                          444751593   \n",
      "...                                                                   ...   \n",
      "GASTÃO VIDIGAL       641                                         20576132   \n",
      "NOVAIS               642                                        398654331   \n",
      "QUELUZ               643                                         42334264   \n",
      "PALMARES PAULISTA    644                                        587868901   \n",
      "RIO GRANDE DA SERRA  645                                        286647484   \n",
      "\n",
      "                          % em relação a população geral  \\\n",
      "FLORÍNEA             1                               136   \n",
      "SANTO ANDRÉ          2                               114   \n",
      "CAIUÁ                3                                99   \n",
      "NOVA INDEPENDÊNCIA   4                                98   \n",
      "PRESIDENTE BERNARDES 5                                96   \n",
      "...                                                  ...   \n",
      "GASTÃO VIDIGAL       641                              55   \n",
      "NOVAIS               642                              54   \n",
      "QUELUZ               643                              54   \n",
      "PALMARES PAULISTA    644                              52   \n",
      "RIO GRANDE DA SERRA  645                              46   \n",
      "\n",
      "                          % em relação a população geral.1  População  \\\n",
      "FLORÍNEA             1                           524689031       2653   \n",
      "SANTO ANDRÉ          2                           236145767     721368   \n",
      "CAIUÁ                3                           512277161       5946   \n",
      "NOVA INDEPENDÊNCIA   4                           494942018       4053   \n",
      "PRESIDENTE BERNARDES 5                           444751593      13023   \n",
      "...                                                    ...        ...   \n",
      "GASTÃO VIDIGAL       641                          20576132       4860   \n",
      "NOVAIS               642                         398654331       5945   \n",
      "QUELUZ               643                          42334264      13606   \n",
      "PALMARES PAULISTA    644                         587868901      13486   \n",
      "RIO GRANDE DA SERRA  645                         286647484      51436   \n",
      "\n",
      "                          Total Doses Aplicadas D1 + Única  \n",
      "FLORÍNEA             1                                3622  \n",
      "SANTO ANDRÉ          2                              824063  \n",
      "CAIUÁ                3                                5917  \n",
      "NOVA INDEPENDÊNCIA   4                                3992  \n",
      "PRESIDENTE BERNARDES 5                               12560  \n",
      "...                                                    ...  \n",
      "GASTÃO VIDIGAL       641                              2674  \n",
      "NOVAIS               642                              3234  \n",
      "QUELUZ               643                              7353  \n",
      "PALMARES PAULISTA    644                              7092  \n",
      "RIO GRANDE DA SERRA  645                             23808  \n",
      "\n",
      "[645 rows x 6 columns]\n"
     ]
    }
   ],
   "source": [
    "import pandas as pd\n",
    "import requests\n",
    "import io\n",
    "#fiz a requisicao aos dados das vacinas no estado de SP aplicadas\n",
    "#nao foi possivel fazer direto do site\n",
    "#entao baixei e salveino meu github\n",
    "url = 'https://raw.githubusercontent.com/MatheusASCandido/labsMC536-BancoDeDados/main/lab01/20210821_percentual_primeira_dose.csv'\n",
    "data = requests.get(url).content\n",
    "csv = pd.read_csv(io.StringIO(data.decode(\"utf-8\")))\n",
    "print(csv)"
   ]
  },
  {
   "cell_type": "code",
   "execution_count": 2,
   "metadata": {},
   "outputs": [
    {
     "name": "stdout",
     "output_type": "stream",
     "text": [
      "{\n",
      "    \"id\": 35049,\n",
      "    \"nome\": \"Campos do Jord\\u00e3o\",\n",
      "    \"mesorregiao\": {\n",
      "        \"id\": 3513,\n",
      "        \"nome\": \"Vale do Para\\u00edba Paulista\",\n",
      "        \"UF\": {\n",
      "            \"id\": 35,\n",
      "            \"sigla\": \"SP\",\n",
      "            \"nome\": \"S\\u00e3o Paulo\",\n",
      "            \"regiao\": {\n",
      "                \"id\": 3,\n",
      "                \"sigla\": \"SE\",\n",
      "                \"nome\": \"Sudeste\"\n",
      "            }\n",
      "        }\n",
      "    }\n",
      "}\n"
     ]
    }
   ],
   "source": [
    "import requests\n",
    "import json\n",
    "response = requests.get('https://servicodados.ibge.gov.br/api/v1/localidades/microrregioes/35049?formato=aplication/json')\n",
    "obj = response.json()\n",
    "pretty_json = json.dumps(obj, indent=4)\n",
    "print(pretty_json)"
   ]
  },
  {
   "cell_type": "markdown",
   "metadata": {},
   "source": [
    "# Tarefa 2\n",
    "\n",
    "## Engenharia reversa\n",
    "\n",
    "Monte um diagramas que representem modelos dos dados que você terá acesso e como pretende associá-los. Coloque abaixo uma imagem do diagrama."
   ]
  },
  {
   "cell_type": "code",
   "execution_count": null,
   "metadata": {},
   "outputs": [],
   "source": []
  }
 ],
 "metadata": {
  "kernelspec": {
   "display_name": "Python 3",
   "language": "python",
   "name": "python3"
  },
  "language_info": {
   "codemirror_mode": {
    "name": "ipython",
    "version": 3
   },
   "file_extension": ".py",
   "mimetype": "text/x-python",
   "name": "python",
   "nbconvert_exporter": "python",
   "pygments_lexer": "ipython3",
   "version": "3.7.10"
  },
  "toc": {
   "base_numbering": 1,
   "nav_menu": {},
   "number_sections": false,
   "sideBar": false,
   "skip_h1_title": false,
   "title_cell": "Table of Contents",
   "title_sidebar": "Contents",
   "toc_cell": false,
   "toc_position": {},
   "toc_section_display": false,
   "toc_window_display": false
  }
 },
 "nbformat": 4,
 "nbformat_minor": 4
}
